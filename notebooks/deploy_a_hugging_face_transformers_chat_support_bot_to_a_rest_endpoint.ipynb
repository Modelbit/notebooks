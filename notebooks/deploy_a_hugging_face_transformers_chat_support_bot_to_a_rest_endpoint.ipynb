{
  "nbformat": 4,
  "nbformat_minor": 0,
  "metadata": {
    "colab": {
      "provenance": [],
      "gpuType": "T4"
    },
    "kernelspec": {
      "name": "python3",
      "display_name": "Python 3"
    },
    "language_info": {
      "name": "python"
    },
    "accelerator": "GPU"
  },
  "cells": [
    {
      "cell_type": "code",
      "source": [
        "!pip install --upgrade modelbit"
      ],
      "metadata": {
        "id": "UMfuyunKqiMF"
      },
      "execution_count": null,
      "outputs": []
    },
    {
      "cell_type": "code",
      "source": [
        "!pip install transformers"
      ],
      "metadata": {
        "id": "r78p1N_cqNTf"
      },
      "execution_count": null,
      "outputs": []
    },
    {
      "cell_type": "code",
      "source": [
        "import modelbit\n",
        "mb = modelbit.login()"
      ],
      "metadata": {
        "id": "CW85oJATrfp_"
      },
      "execution_count": null,
      "outputs": []
    },
    {
      "cell_type": "code",
      "source": [
        "from transformers import pipeline"
      ],
      "metadata": {
        "id": "B-jNljeVegfr"
      },
      "execution_count": 5,
      "outputs": []
    },
    {
      "cell_type": "code",
      "source": [
        "pipe = pipeline(\"text2text-generation\", model=\"Kaludi/Customer-Support-Assistant-V2\", device=1)"
      ],
      "metadata": {
        "id": "Z4MEazb5gNJV"
      },
      "execution_count": null,
      "outputs": []
    },
    {
      "cell_type": "code",
      "source": [
        "pipe(\"I want to speak to your manager\")"
      ],
      "metadata": {
        "id": "n5OIAQAUgmAk"
      },
      "execution_count": null,
      "outputs": []
    },
    {
      "cell_type": "code",
      "source": [
        "def customer_support_bot(text: str) -> str:\n",
        "  return pipe(text)[0]['generated_text']\n",
        "\n",
        "customer_support_bot(\"I want a refund\")"
      ],
      "metadata": {
        "id": "WS1LgykAg7Qp"
      },
      "execution_count": null,
      "outputs": []
    },
    {
      "cell_type": "code",
      "source": [
        "mb.deploy(customer_support_bot, python_packages=[\"keras==2.12.0\", \"tensorflow==2.12.0\"])"
      ],
      "metadata": {
        "id": "lTK4TsmBqqai"
      },
      "execution_count": null,
      "outputs": []
    }
  ]
}