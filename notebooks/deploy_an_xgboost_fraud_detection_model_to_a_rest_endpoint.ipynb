{
  "cells": [
    {
      "cell_type": "markdown",
      "id": "07fae965",
      "metadata": {
        "id": "07fae965"
      },
      "source": [
        "# 👩🏽‍💻 1. Prep"
      ]
    },
    {
      "cell_type": "code",
      "execution_count": null,
      "id": "820c9b97",
      "metadata": {
        "id": "820c9b97"
      },
      "outputs": [],
      "source": [
        "import pandas as pd\n",
        "import numpy as np\n",
        "from sklearn.model_selection import train_test_split\n",
        "from sklearn.metrics import accuracy_score\n",
        "from sklearn.pipeline import Pipeline\n",
        "from sklearn.preprocessing import OneHotEncoder\n",
        "from xgboost import XGBClassifier"
      ]
    },
    {
      "cell_type": "code",
      "execution_count": null,
      "id": "036de7cf",
      "metadata": {
        "scrolled": true,
        "id": "036de7cf"
      },
      "outputs": [],
      "source": [
        "import modelbit\n",
        "mb = modelbit.login(branch=\"development\")"
      ]
    },
    {
      "cell_type": "markdown",
      "id": "6fca78ed",
      "metadata": {
        "id": "6fca78ed"
      },
      "source": [
        "# 🧠 2. Training\n"
      ]
    },
    {
      "cell_type": "code",
      "execution_count": null,
      "id": "185eea27",
      "metadata": {
        "id": "185eea27"
      },
      "outputs": [],
      "source": [
        "transactions = mb.get_dataset(\"mobile_transactions\")\n",
        "transactions"
      ]
    },
    {
      "cell_type": "code",
      "execution_count": null,
      "id": "f0dad8cb",
      "metadata": {
        "scrolled": false,
        "id": "f0dad8cb"
      },
      "outputs": [],
      "source": [
        "def make_df_for_inference(input_df: pd.DataFrame) -> pd.DataFrame:\n",
        "    inference_df = pd.DataFrame()\n",
        "    inference_df[\"TYPE\"] = input_df[\"TYPE\"]\n",
        "    inference_df[\"AMOUNT\"] = input_df[\"AMOUNT\"]\n",
        "    inference_df[\"DESTINATION_DELTA\"] = input_df[\"NEW_BALANCE_DESTINATION\"] - input_df[\"OLD_BALANCE_DESTINATION\"]\n",
        "    return inference_df\n",
        "\n",
        "X = make_df_for_inference(transactions)\n",
        "X"
      ]
    },
    {
      "cell_type": "code",
      "execution_count": null,
      "id": "c2286435",
      "metadata": {
        "id": "c2286435"
      },
      "outputs": [],
      "source": [
        "y = transactions[\"IS_FRAUD\"].astype(int)\n",
        "y"
      ]
    },
    {
      "cell_type": "code",
      "execution_count": null,
      "id": "7a0fcb0e",
      "metadata": {
        "id": "7a0fcb0e"
      },
      "outputs": [],
      "source": [
        "X_train, X_test, y_train, y_test = train_test_split(X, y)"
      ]
    },
    {
      "cell_type": "code",
      "execution_count": null,
      "id": "58c3c625",
      "metadata": {
        "scrolled": true,
        "id": "58c3c625"
      },
      "outputs": [],
      "source": [
        "pipeline = Pipeline([\n",
        "    (\"encoder\", OneHotEncoder(handle_unknown='ignore')),\n",
        "    (\"classifier\", XGBClassifier())\n",
        "])\n",
        "pipeline.fit(X_train, y_train)"
      ]
    },
    {
      "cell_type": "code",
      "execution_count": null,
      "id": "fe3a30a8",
      "metadata": {
        "id": "fe3a30a8"
      },
      "outputs": [],
      "source": [
        "accuracy_score(y_test, pipeline.predict(X_test))"
      ]
    },
    {
      "cell_type": "markdown",
      "id": "6398eac2",
      "metadata": {
        "id": "6398eac2"
      },
      "source": [
        "# 🚀 3. Deployment"
      ]
    },
    {
      "cell_type": "code",
      "execution_count": null,
      "id": "7a85d936",
      "metadata": {
        "id": "7a85d936"
      },
      "outputs": [],
      "source": [
        "def fraud_probability(input_df: pd.DataFrame) -> np.ndarray:\n",
        "    inference_df = make_df_for_inference(input_df)\n",
        "    return pipeline.predict(inference_df)\n",
        "\n",
        "test_df = pd.DataFrame({\n",
        "    \"TYPE\": [\"CASH_OUT\"],\n",
        "    \"AMOUNT\": [50.0],\n",
        "    \"NEW_BALANCE_DESTINATION\": [100.0],\n",
        "    \"OLD_BALANCE_DESTINATION\": [150.0]\n",
        "})\n",
        "fraud_probability(test_df)"
      ]
    },
    {
      "cell_type": "code",
      "execution_count": null,
      "id": "c1530c16",
      "metadata": {
        "id": "c1530c16"
      },
      "outputs": [],
      "source": [
        "%%time\n",
        "fraud_probability(test_df)"
      ]
    },
    {
      "cell_type": "code",
      "execution_count": null,
      "id": "bf6269b8",
      "metadata": {
        "scrolled": true,
        "id": "bf6269b8"
      },
      "outputs": [],
      "source": [
        "mb.deploy(fraud_probability, dataframe_mode=True, example_dataframe=test_df)"
      ]
    }
  ],
  "metadata": {
    "kernelspec": {
      "display_name": "Python 3 (ipykernel)",
      "language": "python",
      "name": "python3"
    },
    "language_info": {
      "codemirror_mode": {
        "name": "ipython",
        "version": 3
      },
      "file_extension": ".py",
      "mimetype": "text/x-python",
      "name": "python",
      "nbconvert_exporter": "python",
      "pygments_lexer": "ipython3",
      "version": "3.8.8"
    },
    "colab": {
      "provenance": []
    }
  },
  "nbformat": 4,
  "nbformat_minor": 5
}