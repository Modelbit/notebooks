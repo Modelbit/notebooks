{
  "cells": [
    {
      "cell_type": "markdown",
      "id": "9c9f5b9b",
      "metadata": {
        "id": "9c9f5b9b"
      },
      "source": [
        "### 🧑‍🍳  Prep"
      ]
    },
    {
      "cell_type": "code",
      "execution_count": null,
      "id": "53f3e74a",
      "metadata": {
        "scrolled": false,
        "id": "53f3e74a"
      },
      "outputs": [],
      "source": [
        "!pip install modelbit\n",
        "import modelbit\n",
        "mb = modelbit.login()"
      ]
    },
    {
      "cell_type": "markdown",
      "source": [
        "This code pulls down a hypothetical leads dataset from Modelbit"
      ],
      "metadata": {
        "id": "hjxsWhT9BsLb"
      },
      "id": "hjxsWhT9BsLb"
    },
    {
      "cell_type": "code",
      "execution_count": null,
      "id": "0a0bbbb7",
      "metadata": {
        "scrolled": true,
        "id": "0a0bbbb7"
      },
      "outputs": [],
      "source": [
        "leads = mb.get_dataset('leads')\n",
        "leads"
      ]
    },
    {
      "cell_type": "markdown",
      "id": "93677701",
      "metadata": {
        "id": "93677701"
      },
      "source": [
        "### 🧑‍💻 Data Engineering"
      ]
    },
    {
      "cell_type": "code",
      "execution_count": null,
      "id": "addd9feb",
      "metadata": {
        "scrolled": true,
        "id": "addd9feb"
      },
      "outputs": [],
      "source": [
        "X_train = leads[[\"HDYHAU\", \"UTM_SOURCE\", \"INDUSTRY\"]]\n",
        "X_train"
      ]
    },
    {
      "cell_type": "code",
      "execution_count": null,
      "id": "07b32b2c",
      "metadata": {
        "id": "07b32b2c"
      },
      "outputs": [],
      "source": [
        "y_train = leads['CONVERTED'].astype(int)\n",
        "y_train"
      ]
    },
    {
      "cell_type": "markdown",
      "id": "2b530e53",
      "metadata": {
        "id": "2b530e53"
      },
      "source": [
        "### 🧠 Model Training"
      ]
    },
    {
      "cell_type": "code",
      "execution_count": null,
      "id": "921d45b6",
      "metadata": {
        "scrolled": false,
        "id": "921d45b6"
      },
      "outputs": [],
      "source": [
        "from sklearn.pipeline import Pipeline\n",
        "from sklearn.preprocessing import OneHotEncoder\n",
        "from xgboost import XGBRegressor\n",
        "\n",
        "pipeline = Pipeline([\n",
        "    ('encoder', OneHotEncoder(handle_unknown = 'ignore')),\n",
        "    ('regression', XGBRegressor())\n",
        "])\n",
        "\n",
        "pipeline.fit(X_train, y_train)"
      ]
    },
    {
      "cell_type": "markdown",
      "id": "cd7ece35",
      "metadata": {
        "id": "cd7ece35"
      },
      "source": [
        "### 📊 Testing"
      ]
    },
    {
      "cell_type": "code",
      "execution_count": null,
      "id": "bdd7365c",
      "metadata": {
        "id": "bdd7365c"
      },
      "outputs": [],
      "source": [
        "import pandas as pd\n",
        "import numpy as np\n",
        "\n",
        "test_df = pd.DataFrame({\n",
        "    'HDYHAU': ['podcast'],\n",
        "    'UTM_SOURCE': ['google'],\n",
        "    'INDUSTRY': ['Entertainment']\n",
        "})\n",
        "\n",
        "pipeline.predict(test_df)"
      ]
    },
    {
      "cell_type": "code",
      "execution_count": null,
      "id": "b5c03efc",
      "metadata": {
        "scrolled": true,
        "id": "b5c03efc"
      },
      "outputs": [],
      "source": [
        "def harrys_lead_scorer(input_df: pd.DataFrame) -> np.ndarray:\n",
        "    if type(input_df) == int:\n",
        "        return 0\n",
        "    return pipeline.predict(input_df)\n",
        "\n",
        "harrys_lead_scorer(test_df)"
      ]
    },
    {
      "cell_type": "markdown",
      "id": "10c877db",
      "metadata": {
        "id": "10c877db"
      },
      "source": [
        "### 🚀 Deployment"
      ]
    },
    {
      "cell_type": "markdown",
      "source": [
        "This code allows you to switch between 'main' and 'staging' branches in Git"
      ],
      "metadata": {
        "id": "WfEAauc4CRWe"
      },
      "id": "WfEAauc4CRWe"
    },
    {
      "cell_type": "code",
      "execution_count": null,
      "id": "b699e5f8",
      "metadata": {
        "id": "b699e5f8"
      },
      "outputs": [],
      "source": [
        "mb.switch_branch('main')"
      ]
    },
    {
      "cell_type": "code",
      "execution_count": null,
      "id": "f78b00a2",
      "metadata": {
        "scrolled": false,
        "id": "f78b00a2"
      },
      "outputs": [],
      "source": [
        "mb.deploy(harrys_lead_scorer, dataframe_mode=True, example_dataframe=test_df, python_version=\"3.8\", python_packages=[\"xgboost==1.5.2\", \"scikit-learn==1.2.1\"])"
      ]
    }
  ],
  "metadata": {
    "kernelspec": {
      "display_name": "Python 3 (ipykernel)",
      "language": "python",
      "name": "python3"
    },
    "language_info": {
      "codemirror_mode": {
        "name": "ipython",
        "version": 3
      },
      "file_extension": ".py",
      "mimetype": "text/x-python",
      "name": "python",
      "nbconvert_exporter": "python",
      "pygments_lexer": "ipython3",
      "version": "3.11.3"
    },
    "colab": {
      "provenance": []
    }
  },
  "nbformat": 4,
  "nbformat_minor": 5
}