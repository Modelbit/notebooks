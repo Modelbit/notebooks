{
  "nbformat": 4,
  "nbformat_minor": 0,
  "metadata": {
    "colab": {
      "provenance": [],
      "machine_shape": "hm"
    },
    "kernelspec": {
      "name": "python3",
      "display_name": "Python 3"
    },
    "language_info": {
      "name": "python"
    }
  },
  "cells": [
    {
      "cell_type": "markdown",
      "source": [
        "# 👩🏽‍💻 Setup"
      ],
      "metadata": {
        "id": "IszXsGjh0fod"
      }
    },
    {
      "cell_type": "code",
      "execution_count": null,
      "metadata": {
        "id": "TboHvPQ8oiSN"
      },
      "outputs": [],
      "source": [
        "!pip install git+https://github.com/facebookresearch/segment-anything.git"
      ]
    },
    {
      "cell_type": "code",
      "source": [
        "!wget https://dl.fbaipublicfiles.com/segment_anything/sam_vit_b_01ec64.pth"
      ],
      "metadata": {
        "id": "Z2Ge7_nVpfrK"
      },
      "execution_count": null,
      "outputs": []
    },
    {
      "cell_type": "code",
      "source": [
        "!pip install --upgrade modelbit"
      ],
      "metadata": {
        "id": "6rivel5IrfEw"
      },
      "execution_count": null,
      "outputs": []
    },
    {
      "cell_type": "code",
      "source": [
        "from segment_anything import sam_model_registry, SamPredictor\n",
        "import cv2\n",
        "import urllib\n",
        "import numpy as np\n",
        "import matplotlib.pyplot as plt"
      ],
      "metadata": {
        "id": "xZ9LfgjWpoy3"
      },
      "execution_count": null,
      "outputs": []
    },
    {
      "cell_type": "code",
      "source": [
        "import modelbit\n",
        "mb = modelbit.login()"
      ],
      "metadata": {
        "id": "fqbe_kKMR5DR"
      },
      "execution_count": null,
      "outputs": []
    },
    {
      "cell_type": "markdown",
      "source": [
        "# 📊 Matplotlib Helpers"
      ],
      "metadata": {
        "id": "J4tV2NoF0z8t"
      }
    },
    {
      "cell_type": "code",
      "source": [
        "def show_mask(mask, ax, random_color=False):\n",
        "    if random_color:\n",
        "        color = np.concatenate([np.random.random(3), np.array([0.6])], axis=0)\n",
        "    else:\n",
        "        color = np.array([30/255, 144/255, 255/255, 0.6])\n",
        "    h, w = mask.shape[-2:]\n",
        "    mask_image = mask.reshape(h, w, 1) * color.reshape(1, 1, -1)\n",
        "    ax.imshow(mask_image)\n",
        "\n",
        "def show_points(coords, labels, ax, marker_size=375):\n",
        "    pos_points = coords[labels==1]\n",
        "    neg_points = coords[labels==0]\n",
        "    ax.scatter(pos_points[:, 0], pos_points[:, 1], color='yellow', marker='*', s=marker_size, edgecolor='white', linewidth=1.25)\n",
        "    ax.scatter(neg_points[:, 0], neg_points[:, 1], color='red', marker='*', s=marker_size, edgecolor='white', linewidth=1.25)\n",
        "\n",
        "def show_box(box, ax):\n",
        "    x0, y0 = box[0], box[1]\n",
        "    w, h = box[2] - box[0], box[3] - box[1]\n",
        "    ax.add_patch(plt.Rectangle((x0, y0), w, h, edgecolor='green', facecolor=(0,0,0,0), lw=2))\n",
        "\n",
        "def get_bounding_box(mask):\n",
        "    x_min = None\n",
        "    x_max = None\n",
        "    y_min = None\n",
        "    y_max = None\n",
        "    for y, row in enumerate(mask):\n",
        "        for x, val in enumerate(row):\n",
        "            if val:\n",
        "                if x_min is None or x_min > x:\n",
        "                    x_min = x\n",
        "                if y_min is None or y_min > y:\n",
        "                    y_min = y\n",
        "                if x_max is None or x_max < x:\n",
        "                    x_max = x\n",
        "                if y_max is None or y_max < y:\n",
        "                    y_max = y\n",
        "    return x_min, y_min, x_max, y_max\n",
        "\n",
        "def show_box(box, ax):\n",
        "    x0, y0 = box[0], box[1]\n",
        "    w, h = box[2] - box[0], box[3] - box[1]\n",
        "    ax.add_patch(\n",
        "        plt.Rectangle((x0, y0),\n",
        "                      w,\n",
        "                      h,\n",
        "                      edgecolor='yellow',\n",
        "                      facecolor=(0, 0, 0, 0),\n",
        "                      lw=2))"
      ],
      "metadata": {
        "id": "7wQc47xnBq4a"
      },
      "execution_count": null,
      "outputs": []
    },
    {
      "cell_type": "markdown",
      "source": [
        "# 🧠 Model Configuration"
      ],
      "metadata": {
        "id": "JqWMF65C0-Cj"
      }
    },
    {
      "cell_type": "code",
      "source": [
        "sam = sam_model_registry[\"vit_b\"](checkpoint=\"sam_vit_b_01ec64.pth\")\n",
        "predictor = SamPredictor(sam)"
      ],
      "metadata": {
        "id": "975_ewV_p3ZK"
      },
      "execution_count": null,
      "outputs": []
    },
    {
      "cell_type": "code",
      "source": [
        "# download the image into cv2\n",
        "IMAGE_URL = \"https://doc.modelbit.com/img/groceries.jpg\"\n",
        "resp = urllib.request.urlopen(IMAGE_URL)\n",
        "image = np.asarray(bytearray(resp.read()))\n",
        "image = cv2.imdecode(image, -1)\n",
        "image = cv2.cvtColor(image, cv2.COLOR_BGR2RGB)\n",
        "\n",
        "# load the image into Segment Anything\n",
        "predictor.set_image(image)"
      ],
      "metadata": {
        "id": "vBThw2Vl7quY"
      },
      "execution_count": null,
      "outputs": []
    },
    {
      "cell_type": "markdown",
      "source": [
        "# 🔥 Inference"
      ],
      "metadata": {
        "id": "8kIod1RY1HOu"
      }
    },
    {
      "cell_type": "code",
      "source": [
        "def segment_image(point_x, point_y):\n",
        "    # Get the segment mask\n",
        "    input_point = np.array([[point_x, point_y]])\n",
        "    input_label = np.array([1])\n",
        "    mask, score, logit = predictor.predict(\n",
        "        point_coords=input_point,\n",
        "        point_labels=input_label,\n",
        "        multimask_output=False,\n",
        "    )\n",
        "    mask = mask[0]\n",
        "\n",
        "    # Draw the image, the point we selected, the mask, and the bounding box\n",
        "    fig = plt.figure(figsize=(10,10))\n",
        "    plt.imshow(image)\n",
        "    show_mask(mask, plt.gca())\n",
        "    show_points(input_point, input_label, plt.gca())\n",
        "    bbox = get_bounding_box(mask)\n",
        "    show_box(bbox, plt.gca())\n",
        "    plt.show()\n",
        "    mb.log_image(fig) # show the segmented image in modelbit logs\n",
        "\n",
        "    # return the bounding box of our segment\n",
        "    return bbox"
      ],
      "metadata": {
        "id": "3bFhoXEdptpL"
      },
      "execution_count": null,
      "outputs": []
    },
    {
      "cell_type": "code",
      "source": [
        "segment_image(400, 275)"
      ],
      "metadata": {
        "id": "Y8W85h4WREJz"
      },
      "execution_count": null,
      "outputs": []
    },
    {
      "cell_type": "markdown",
      "source": [
        "# 🚀 Deployment"
      ],
      "metadata": {
        "id": "Dy-CIVfm1OH1"
      }
    },
    {
      "cell_type": "code",
      "source": [
        "mb.deploy(segment_image,\n",
        "          python_packages=[\n",
        "              \"git+https://github.com/facebookresearch/segment-anything.git\",\n",
        "              \"matplotlib==3.7.1\",\n",
        "              \"numpy==1.22.4\",\n",
        "              \"opencv-python-headless==4.8.0.74\",\n",
        "              \"torch==2.0.1+cpu\",\n",
        "              \"torchvision==0.15.2\"\n",
        "          ])"
      ],
      "metadata": {
        "id": "TinlsyzIsb6s"
      },
      "execution_count": null,
      "outputs": []
    }
  ]
}