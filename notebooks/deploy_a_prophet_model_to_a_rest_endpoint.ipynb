{
  "nbformat": 4,
  "nbformat_minor": 0,
  "metadata": {
    "colab": {
      "provenance": []
    },
    "kernelspec": {
      "name": "python3",
      "display_name": "Python 3"
    },
    "language_info": {
      "name": "python"
    }
  },
  "cells": [
    {
      "cell_type": "markdown",
      "source": [
        "# 🧑‍🍳 Preparation and Imports"
      ],
      "metadata": {
        "id": "V1dRNqspvgLa"
      }
    },
    {
      "cell_type": "code",
      "execution_count": null,
      "metadata": {
        "id": "BEaLDB2WtEsW"
      },
      "outputs": [],
      "source": [
        "!pip install modelbit"
      ]
    },
    {
      "cell_type": "code",
      "source": [
        "import pandas as pd\n",
        "from prophet import Prophet\n",
        "import modelbit\n",
        "mb = modelbit.login()"
      ],
      "metadata": {
        "id": "0e1GqWpPtaxj"
      },
      "execution_count": null,
      "outputs": []
    },
    {
      "cell_type": "code",
      "source": [
        "mb.switch_branch(\"harry_dev\")"
      ],
      "metadata": {
        "id": "MDV78vNWX0r9"
      },
      "execution_count": null,
      "outputs": []
    },
    {
      "cell_type": "markdown",
      "source": [
        "# ⚙️ Data Engineering"
      ],
      "metadata": {
        "id": "P_dQ_6xewAjW"
      }
    },
    {
      "cell_type": "code",
      "source": [
        "#Set holidays for use in model\n",
        "xmas = pd.DataFrame({\n",
        "    'holiday': 'xmas',\n",
        "    'ds': pd.to_datetime(['2019-12-31', '2020-12-31','2021-12-31', '2022-12-31','2023-12-31','2024-12-31']),\n",
        "    'lower_window': -10,\n",
        "    'upper_window': 0,\n",
        "})"
      ],
      "metadata": {
        "id": "ZelFSuCNuBba"
      },
      "execution_count": null,
      "outputs": []
    },
    {
      "cell_type": "code",
      "source": [
        "orders = pd.read_csv(r'orders.csv', parse_dates=['ds'], names = ['ds','y'], header=0)"
      ],
      "metadata": {
        "id": "tM9xDPvCvLAr"
      },
      "execution_count": null,
      "outputs": []
    },
    {
      "cell_type": "code",
      "source": [
        "orders_weekly = orders.groupby([pd.Grouper(key='ds', freq='W')])['y'].sum().reset_index()"
      ],
      "metadata": {
        "id": "WNI62N2GvStI"
      },
      "execution_count": null,
      "outputs": []
    },
    {
      "cell_type": "code",
      "source": [
        "#Set week beginning to Sunday to link up with Quicksight. For Monday it is '6'\n",
        "orders_weekly['ds'] -= pd.Timedelta(days=7)"
      ],
      "metadata": {
        "id": "pyOfWbbFvVlN"
      },
      "execution_count": null,
      "outputs": []
    },
    {
      "cell_type": "code",
      "source": [
        "#Delete final two weeks of dataframe which will include incomplete data and dates after April 2020\n",
        "orders_weekly = orders_weekly[:-2]\n",
        "orders_weekly = orders_weekly[~(orders_weekly['ds'] < '2020-04-30')]"
      ],
      "metadata": {
        "id": "Tj9iywM0vYB-"
      },
      "execution_count": null,
      "outputs": []
    },
    {
      "cell_type": "markdown",
      "source": [
        "# 🧠 Model Fitting"
      ],
      "metadata": {
        "id": "jQakOA9lwNXI"
      }
    },
    {
      "cell_type": "code",
      "source": [
        "m = Prophet(holidays=xmas)\n",
        "m.fit(orders_weekly)"
      ],
      "metadata": {
        "id": "k7TTx-d-vZTC"
      },
      "execution_count": null,
      "outputs": []
    },
    {
      "cell_type": "markdown",
      "source": [
        "# 📈 Model Evaluation"
      ],
      "metadata": {
        "id": "LHmJVXzmwUrz"
      }
    },
    {
      "cell_type": "code",
      "source": [
        "from prophet.plot import plot_yearly\n",
        "future = m.make_future_dataframe(periods=100, freq='W')\n",
        "fcst = m.predict(future)\n",
        "fig = m.plot(fcst)"
      ],
      "metadata": {
        "id": "Lu4Ka9eBwcaC"
      },
      "execution_count": null,
      "outputs": []
    },
    {
      "cell_type": "markdown",
      "source": [
        "# 🚀 Model Deployment"
      ],
      "metadata": {
        "id": "2ffVdCuvwrHE"
      }
    },
    {
      "cell_type": "code",
      "source": [
        "def prophet_forecast(dates_df: pd.DataFrame) -> pd.DataFrame:\n",
        "  fcst = m.predict(dates_df)\n",
        "  fcst = fcst[[\"ds\",\"yhat_lower\", \"yhat_upper\",\"yhat\"]]\n",
        "  return fcst\n",
        "\n",
        "prophet_forecast(m.make_future_dataframe(periods=100, freq='W'))"
      ],
      "metadata": {
        "id": "-7Xs9iJWwhN-"
      },
      "execution_count": null,
      "outputs": []
    },
    {
      "cell_type": "code",
      "source": [
        "mb.deploy(prophet_forecast,\n",
        "          dataframe_mode=True,\n",
        "          example_dataframe=m.make_future_dataframe(periods=100, freq='W'))"
      ],
      "metadata": {
        "id": "H3btrISYxbed"
      },
      "execution_count": null,
      "outputs": []
    }
  ]
}