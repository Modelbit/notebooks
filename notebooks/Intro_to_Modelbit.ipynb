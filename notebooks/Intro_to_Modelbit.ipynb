{
  "nbformat": 4,
  "nbformat_minor": 0,
  "metadata": {
    "colab": {
      "provenance": [],
      "toc_visible": true
    },
    "kernelspec": {
      "name": "python3",
      "display_name": "Python 3"
    },
    "language_info": {
      "name": "python"
    }
  },
  "cells": [
    {
      "cell_type": "markdown",
      "source": [
        "<img src=\"https://assets-global.website-files.com/61ddc75d84e094baf5b1bc86/61f44e2e0cb9955d7de6cc46_modelbit-logo-with-name.svg\" width=\"400\" alt=\"\" class=\"brand\">"
      ],
      "metadata": {
        "id": "ay4wdjaNzLGc"
      }
    },
    {
      "cell_type": "markdown",
      "source": [
        "# 🏎 Quickstart"
      ],
      "metadata": {
        "id": "KsQALgF00oyL"
      }
    },
    {
      "cell_type": "markdown",
      "source": [
        "Use Modelbit for deploying ML models to production endpoints, training models on GPUs, and serving ML models in production."
      ],
      "metadata": {
        "id": "lk2mWptB02Xg"
      }
    },
    {
      "cell_type": "markdown",
      "source": [
        "## 🔬 Modelbit's Python API that automatically detects your model and its depencies"
      ],
      "metadata": {
        "id": "QNzPF0EI1Cij"
      }
    },
    {
      "cell_type": "markdown",
      "source": [
        "With just one line of code, you can deploy any ML model to an isolated container behind a REST API. Modelbit gives you an interface and MLOps features to manage your model in production."
      ],
      "metadata": {
        "id": "oq1v44Ke2AVj"
      }
    },
    {
      "cell_type": "markdown",
      "source": [
        "<img class=\"feature-image\" src=\"https://assets-global.website-files.com/61ddc75d84e094baf5b1bc86/65af0d3a1491e90d61eaf38b_Screenshot%202024-01-22%20at%204.49.49%20PM.png\" alt=\"Sample data rows and results metadata from a Modelbit dataset\" style=\"opacity: 1;\" sizes=\"(max-width: 479px) 100vw, (max-width: 767px) 95vw, (max-width: 991px) 78vw, 52vw\" data-w-id=\"49576e9b-be18-e906-bbb2-06412cb48b35\" loading=\"lazy\" srcset=\"https://assets-global.website-files.com/61ddc75d84e094baf5b1bc86/65af0d3a1491e90d61eaf38b_Screenshot%202024-01-22%20at%204.49.49%20PM-p-500.png 500w, https://assets-global.website-files.com/61ddc75d84e094baf5b1bc86/65af0d3a1491e90d61eaf38b_Screenshot%202024-01-22%20at%204.49.49%20PM-p-800.png 800w, https://assets-global.website-files.com/61ddc75d84e094baf5b1bc86/65af0d3a1491e90d61eaf38b_Screenshot%202024-01-22%20at%204.49.49%20PM-p-1080.png 1080w, https://assets-global.website-files.com/61ddc75d84e094baf5b1bc86/65af0d3a1491e90d61eaf38b_Screenshot%202024-01-22%20at%204.49.49%20PM.png 1573w\">"
      ],
      "metadata": {
        "id": "gGgnT3Vf2Yw_"
      }
    },
    {
      "cell_type": "markdown",
      "source": [
        "## 💾 Install `Modelbit` and login\n"
      ],
      "metadata": {
        "id": "iR_A70sP2pQO"
      }
    },
    {
      "cell_type": "markdown",
      "source": [
        "Once you have installed Modelbit and logged in to your free account, we will start by deploying a simple function that doubles numbers."
      ],
      "metadata": {
        "id": "FQE6sQDr3Gs0"
      }
    },
    {
      "cell_type": "code",
      "source": [
        "pip install --upgrade modelbit"
      ],
      "metadata": {
        "id": "Eb-A2vjg3OVR"
      },
      "execution_count": null,
      "outputs": []
    },
    {
      "cell_type": "code",
      "source": [
        "import modelbit\n",
        "mb = modelbit.login()"
      ],
      "metadata": {
        "id": "h-6O_plZ3shQ"
      },
      "execution_count": null,
      "outputs": []
    },
    {
      "cell_type": "markdown",
      "source": [
        "## 🚀 Deploy a model!"
      ],
      "metadata": {
        "id": "19BL4ABJ5cLA"
      }
    },
    {
      "cell_type": "markdown",
      "source": [
        "This step is required, but after this you can train and deploy any model you like!"
      ],
      "metadata": {
        "id": "7oxChFPH5gGa"
      }
    },
    {
      "cell_type": "code",
      "source": [
        "from sklearn import linear_model\n",
        "lm = linear_model.LinearRegression()\n",
        "lm.fit([[1], [2], [3]], [2, 4, 6])\n",
        "\n",
        "def example_doubler(half: int) -> int:\n",
        "    if type(half) is not int:\n",
        "        return None\n",
        "    return round(lm.predict([[half]])[0])\n",
        "\n",
        "mb.deploy(example_doubler)"
      ],
      "metadata": {
        "id": "Zng_cRT23tkx"
      },
      "execution_count": null,
      "outputs": []
    },
    {
      "cell_type": "markdown",
      "source": [
        "---"
      ],
      "metadata": {
        "id": "P5EnAkgB4Rv6"
      }
    },
    {
      "cell_type": "markdown",
      "source": [
        "# 🖼 Deploy a Segment Anything Model from Meta AI"
      ],
      "metadata": {
        "id": "H-kPBUuXCiXS"
      }
    },
    {
      "cell_type": "markdown",
      "source": [
        "## 👩🏽‍💻 Setup"
      ],
      "metadata": {
        "id": "6Zd_QrgqCwy2"
      }
    },
    {
      "cell_type": "code",
      "source": [
        "!pip install git+https://github.com/facebookresearch/segment-anything.git"
      ],
      "metadata": {
        "id": "pyxC6CTrC6s6"
      },
      "execution_count": null,
      "outputs": []
    },
    {
      "cell_type": "code",
      "source": [
        "!wget https://dl.fbaipublicfiles.com/segment_anything/sam_vit_h_4b8939.pth"
      ],
      "metadata": {
        "id": "ZgrxNWV5C88y"
      },
      "execution_count": null,
      "outputs": []
    },
    {
      "cell_type": "code",
      "source": [
        "from segment_anything import sam_model_registry, SamPredictor\n",
        "import cv2\n",
        "import urllib\n",
        "import numpy as np\n",
        "import matplotlib.pyplot as plt"
      ],
      "metadata": {
        "id": "ZUgkzbZwC-xU"
      },
      "execution_count": null,
      "outputs": []
    },
    {
      "cell_type": "markdown",
      "source": [
        "## 📊 Building Blocks For Working With Images"
      ],
      "metadata": {
        "id": "xVKaFO3RDJVK"
      }
    },
    {
      "cell_type": "code",
      "source": [
        "# Given the pixels of an image mask, return the mask's bounding box\n",
        "def mask2boundingbox(mask):\n",
        "    x_min = None\n",
        "    x_max = None\n",
        "    y_min = None\n",
        "    y_max = None\n",
        "    for y, row in enumerate(mask):\n",
        "      for x, val in enumerate(row):\n",
        "        if val:\n",
        "          if x_min is None or x_min > x:\n",
        "            x_min = x\n",
        "          if y_min is None or y_min > y:\n",
        "            y_min = y\n",
        "          if x_max is None or x_max < x:\n",
        "            x_max = x\n",
        "          if y_max is None or y_max < y:\n",
        "            y_max = y\n",
        "    return x_min, y_min, x_max, y_max\n",
        "\n",
        "# Render a mask in matplotlib\n",
        "def show_mask(mask, ax, random_color=False):\n",
        "    if random_color:\n",
        "        color = np.concatenate([np.random.random(3), np.array([0.6])], axis=0)\n",
        "    else:\n",
        "        color = np.array([30/255, 144/255, 255/255, 0.6])\n",
        "    h, w = mask.shape[-2:]\n",
        "    mask_image = mask.reshape(h, w, 1) * color.reshape(1, 1, -1)\n",
        "    ax.imshow(mask_image)\n",
        "\n",
        "# Render a point as a star in matplotlib\n",
        "def show_points(coords, labels, ax, marker_size=375):\n",
        "    pos_points = coords[labels==1]\n",
        "    neg_points = coords[labels==0]\n",
        "    ax.scatter(pos_points[:, 0], pos_points[:, 1], color='green', marker='*', s=marker_size, edgecolor='white', linewidth=1.25)\n",
        "    ax.scatter(neg_points[:, 0], neg_points[:, 1], color='red', marker='*', s=marker_size, edgecolor='white', linewidth=1.25)\n",
        "\n",
        "# Render a box in matplotlib\n",
        "def show_box(box, ax):\n",
        "    x0, y0 = box[0], box[1]\n",
        "    w, h = box[2] - box[0], box[3] - box[1]\n",
        "    ax.add_patch(plt.Rectangle((x0, y0), w, h, edgecolor='red', facecolor=(0,0,0,0), lw=2))\n",
        "\n",
        "# Render an image in matplotlib\n",
        "def show_image(img, points = None, mask = np.ndarray([]), box = ()):\n",
        "    im = plt.figure(figsize=(10,10))\n",
        "    plt.imshow(img)\n",
        "    if points:\n",
        "        show_points(np.array([[points[0], points[1]]]), np.array([1]), plt.gca())\n",
        "    if mask.any():\n",
        "        show_mask(mask, plt.gca())\n",
        "    if box:\n",
        "        show_box(box, plt.gca())\n",
        "    plt.axis('on')\n",
        "    modelbit.log_image(im)\n",
        "    plt.show()"
      ],
      "metadata": {
        "id": "F9uQd92rDHFx"
      },
      "execution_count": null,
      "outputs": []
    },
    {
      "cell_type": "markdown",
      "source": [
        "## 🧠 Getting Segment Anything Running"
      ],
      "metadata": {
        "id": "whtX60OODQSZ"
      }
    },
    {
      "cell_type": "code",
      "source": [
        "sam = sam_model_registry[\"default\"](checkpoint=\"sam_vit_h_4b8939.pth\")\n",
        "sam.to(device=\"cuda\")\n",
        "predictor = SamPredictor(sam)"
      ],
      "metadata": {
        "id": "u3gdmS6hDZe5"
      },
      "execution_count": null,
      "outputs": []
    },
    {
      "cell_type": "code",
      "source": [
        "def find_cat(url, x_coord, y_coord):\n",
        "    url_response = urllib.request.urlopen(url)\n",
        "    img = cv2.imdecode(np.array(bytearray(url_response.read()), dtype=np.uint8), -1)\n",
        "    img = cv2.cvtColor(img, cv2.COLOR_BGR2RGB)\n",
        "    predictor.set_image(img)\n",
        "\n",
        "    masks, scores, logits = predictor.predict(\n",
        "        point_coords=np.array([[x_coord, y_coord]]),\n",
        "        point_labels=np.array([1]),\n",
        "        multimask_output=True,\n",
        "    )\n",
        "\n",
        "    top_score = 0\n",
        "    best_mask = None\n",
        "    for i, score in enumerate(scores):\n",
        "      if score > top_score:\n",
        "        top_score = score\n",
        "        best_mask = masks[i]\n",
        "\n",
        "    bbox = mask2boundingbox(best_mask)\n",
        "    show_image(img, (x_coord, y_coord), best_mask, bbox)\n",
        "\n",
        "    return bbox"
      ],
      "metadata": {
        "id": "mKJvPoR9DbCP"
      },
      "execution_count": null,
      "outputs": []
    },
    {
      "cell_type": "code",
      "source": [
        "bounding_box = find_cat(\"https://montereyzoo.org/wp-content/uploads/2017/04/big-cats-6.jpg\", 225, 150)\n",
        "bounding_box"
      ],
      "metadata": {
        "id": "Vf4oblMWDd5c"
      },
      "execution_count": null,
      "outputs": []
    },
    {
      "cell_type": "markdown",
      "source": [
        "## 🚀 Deploying Segment Anything to a REST API"
      ],
      "metadata": {
        "id": "MYa1C7DEDfKt"
      }
    },
    {
      "cell_type": "code",
      "source": [
        "mb.deploy(find_cat,\n",
        "          python_packages=[\n",
        "            \"git+https://github.com/facebookresearch/segment-anything.git\",\n",
        "            \"opencv-python==4.8.0.76\",\n",
        "            \"pycocotools==2.0.7\",\n",
        "            \"matplotlib==3.7.1\",\n",
        "            \"numpy==1.25.2\",\n",
        "            \"torch==2.0.1+cu118\",\n",
        "            \"torchvision==0.15.2+cu118\",\n",
        "          ],\n",
        "          system_packages=[\"python3-opencv\", \"build-essential\"],\n",
        "          require_gpu=True\n",
        ")"
      ],
      "metadata": {
        "id": "rYmGVLkLDhff"
      },
      "execution_count": null,
      "outputs": []
    }
  ]
}